{
 "cells": [
  {
   "cell_type": "code",
   "execution_count": 1,
   "metadata": {},
   "outputs": [],
   "source": [
    "dic = {\"ag9f9fhfe\": \"asfaisdjfopasidjfas.jpg\", \"asf9f9f9f\": \"asf9f9f9f.jpg\", \"asf9f9f9f\": \"asf9f9f9f.jpg\"}"
   ]
  },
  {
   "cell_type": "code",
   "execution_count": 2,
   "metadata": {},
   "outputs": [
    {
     "name": "stdout",
     "output_type": "stream",
     "text": [
      "ag9f9fhfe has been saved to images folder\n",
      "asf9f9f9f has been saved to images folder\n"
     ]
    }
   ],
   "source": [
    "# given the dictionary, loop through the dictionary and get the images with api call and save them to a folder with the key as the name of the file\n",
    "\n",
    "import requests\n",
    "import os\n",
    "\n",
    "for key, value in dic.items():\n",
    "    url = f\"{value}\"\n",
    "    response = requests.get(url)\n",
    "    with open(f\"images/{key}.jpg\", \"wb\") as file:\n",
    "        file.write(response.content)\n",
    "        print(f\"{key} has been saved to images folder\")\n",
    "\n"
   ]
  },
  {
   "cell_type": "code",
   "execution_count": 3,
   "metadata": {},
   "outputs": [
    {
     "name": "stdout",
     "output_type": "stream",
     "text": [
      "test.jpg has been saved to images folder\n"
     ]
    }
   ],
   "source": [
    "url = \"https://dl5zpyw5k3jeb.cloudfront.net/photos/pets/70638558/1/?bust=1707271767\"\n",
    "response = requests.get(url)\n",
    "with open(f\"images/test.jpg\", \"wb\") as file:\n",
    "    file.write(response.content)\n",
    "    print(f\"test.jpg has been saved to images folder\")"
   ]
  },
  {
   "cell_type": "code",
   "execution_count": null,
   "metadata": {},
   "outputs": [],
   "source": []
  }
 ],
 "metadata": {
  "kernelspec": {
   "display_name": "UCSB_CS",
   "language": "python",
   "name": "python3"
  },
  "language_info": {
   "codemirror_mode": {
    "name": "ipython",
    "version": 3
   },
   "file_extension": ".py",
   "mimetype": "text/x-python",
   "name": "python",
   "nbconvert_exporter": "python",
   "pygments_lexer": "ipython3",
   "version": "3.11.5"
  }
 },
 "nbformat": 4,
 "nbformat_minor": 2
}
